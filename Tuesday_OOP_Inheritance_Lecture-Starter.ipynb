{
 "cells": [
  {
   "cell_type": "markdown",
   "metadata": {},
   "source": [
    "# Object-Oriented-Programming (OOP)"
   ]
  },
  {
   "cell_type": "markdown",
   "metadata": {},
   "source": [
    "## Tasks Today:\n",
    "\n",
    "   \n",
    "1) <b>Dunder Methods</b> <br>\n",
    " &nbsp;&nbsp;&nbsp;&nbsp; a) The \\__str\\__() Method <br>\n",
    " &nbsp;&nbsp;&nbsp;&nbsp; b) The \\__repr\\__() Method <br>\n",
    " &nbsp;&nbsp;&nbsp;&nbsp; c) Other Magic Methods <br>\n",
    " &nbsp;&nbsp;&nbsp;&nbsp; d) In-Class Exercise #1 - Create a class Animal that displays the species and animal name when printed <br>  \n",
    "2) <b>Inheritance</b> <br>\n",
    " &nbsp;&nbsp;&nbsp;&nbsp; a) Syntax for Inheriting from a Parent Class <br>\n",
    " &nbsp;&nbsp;&nbsp;&nbsp; b) The \\__init\\__() Method for a Child Class (super()) <br>\n",
    " &nbsp;&nbsp;&nbsp;&nbsp; c) Defining Attributes and Methods for the Child Class <br>\n",
    " &nbsp;&nbsp;&nbsp;&nbsp; d) Method Overriding <br>\n",
    " &nbsp;&nbsp;&nbsp;&nbsp; e) In-Class Exercise #2 - Create a class 'Ford' that inherits from 'Car' class and initialize it as a Blue Ford Explorer with 4 wheels using the super() method <br>\n",
    "3) <b>Modules</b> <br>\n",
    " &nbsp;&nbsp;&nbsp;&nbsp; a) Importing Modules<br>\n",
    " &nbsp;&nbsp;&nbsp;&nbsp; b) Importing from modules <br>\n",
    " &nbsp;&nbsp;&nbsp;&nbsp; c) Aliasing <br>\n",
    " &nbsp;&nbsp;&nbsp;&nbsp; d) Creating Modules <br>\n"
   ]
  },
  {
   "cell_type": "markdown",
   "metadata": {},
   "source": [
    "### Warm Up"
   ]
  },
  {
   "cell_type": "markdown",
   "metadata": {},
   "source": [
    "Create a class for a Book that has instance attributes for `title`, `author`, `num_of_pages`, and `price`. Each book instance should also have a `current_page` attribute that starts at 0. Add a method called `read` that takes in number of pages. The method should update the what the current page is. If the `current_page` goes over the `num_of_pages`, print that the book is finished and reset the `current_page` to 0"
   ]
  },
  {
   "cell_type": "code",
   "execution_count": 1,
   "metadata": {},
   "outputs": [],
   "source": [
    "class Book:\n",
    "    def __init__(self, title, author, num_of_pages, price):\n",
    "        self.title = title\n",
    "        self.author = author\n",
    "        self.num_of_pages = num_of_pages\n",
    "        self.price = price\n",
    "        self.current_page = 0\n",
    "        print(f\"Congrats on purchasing {title} by {author} for ${price:.2f}\")\n",
    "        \n",
    "    def read(self, num_pages):\n",
    "        self.current_page += num_pages\n",
    "        if self.current_page >= self.num_of_pages:\n",
    "            print(f\"Congrats on finishing {self.title}\")\n",
    "            self.current_page = 0\n",
    "        else:\n",
    "            print(f\"You are currently on page {self.current_page} of {self.title}. \\\n",
    "There are {self.num_of_pages - self.current_page} pages left\")\n"
   ]
  },
  {
   "cell_type": "code",
   "execution_count": 2,
   "metadata": {},
   "outputs": [
    {
     "name": "stdout",
     "output_type": "stream",
     "text": [
      "Congrats on purchasing The Midnight Library by Matt Haig for $26.00\n",
      "You are currently on page 45 of The Midnight Library. There are 243 pages left\n",
      "You are currently on page 104 of The Midnight Library. There are 184 pages left\n",
      "You are currently on page 146 of The Midnight Library. There are 142 pages left\n",
      "You are currently on page 230 of The Midnight Library. There are 58 pages left\n",
      "Congrats on finishing The Midnight Library\n"
     ]
    }
   ],
   "source": [
    "book = Book(\"The Midnight Library\", \"Matt Haig\", 288, 26.00)\n",
    "book.read(45)\n",
    "book.read(59)\n",
    "book.read(42)\n",
    "book.read(84)\n",
    "book.read(62)"
   ]
  },
  {
   "cell_type": "code",
   "execution_count": 3,
   "metadata": {},
   "outputs": [
    {
     "name": "stdout",
     "output_type": "stream",
     "text": [
      "Congrats on purchasing Harry Potter by JK Rowling for $19.99\n",
      "You are currently on page 123 of Harry Potter. There are 644 pages left\n",
      "You are currently on page 444 of Harry Potter. There are 323 pages left\n"
     ]
    }
   ],
   "source": [
    "book2 = Book('Harry Potter', 'JK Rowling', 767, 19.99)\n",
    "book2.read(123)\n",
    "book2.read(321)"
   ]
  },
  {
   "cell_type": "code",
   "execution_count": 4,
   "metadata": {},
   "outputs": [
    {
     "name": "stdout",
     "output_type": "stream",
     "text": [
      "[<__main__.Book object at 0x00000267A5814040>, <__main__.Book object at 0x00000267A581DE70>]\n",
      "<__main__.Book object at 0x00000267A5814040>\n",
      "<__main__.Book object at 0x00000267A581DE70>\n"
     ]
    }
   ],
   "source": [
    "library = [book, book2]\n",
    "\n",
    "print(library)\n",
    "\n",
    "for book in library:\n",
    "    print(book)"
   ]
  },
  {
   "cell_type": "markdown",
   "metadata": {},
   "source": [
    "## Dunder Methods"
   ]
  },
  {
   "cell_type": "code",
   "execution_count": 5,
   "metadata": {},
   "outputs": [
    {
     "data": {
      "text/plain": [
       "'43'"
      ]
     },
     "execution_count": 5,
     "metadata": {},
     "output_type": "execute_result"
    }
   ],
   "source": [
    "number = 43\n",
    "\n",
    "str(number)"
   ]
  },
  {
   "cell_type": "code",
   "execution_count": 6,
   "metadata": {},
   "outputs": [
    {
     "data": {
      "text/plain": [
       "'43'"
      ]
     },
     "execution_count": 6,
     "metadata": {},
     "output_type": "execute_result"
    }
   ],
   "source": [
    "int.__str__(number)"
   ]
  },
  {
   "cell_type": "code",
   "execution_count": 7,
   "metadata": {},
   "outputs": [
    {
     "name": "stdout",
     "output_type": "stream",
     "text": [
      "I am 43 years old\n"
     ]
    }
   ],
   "source": [
    "print(f\"I am {number} years old\")"
   ]
  },
  {
   "cell_type": "markdown",
   "metadata": {},
   "source": [
    "#### \\__str\\__()"
   ]
  },
  {
   "cell_type": "code",
   "execution_count": 50,
   "metadata": {},
   "outputs": [
    {
     "name": "stdout",
     "output_type": "stream",
     "text": [
      "Congrats on purchasing A Tale of Two Cities by Charles Dickens for $29.99\n",
      "Congrats on purchasing Moby Dick by Herman Melville for $14.95\n"
     ]
    }
   ],
   "source": [
    "class Book:\n",
    "    def __init__(self, title, author, num_of_pages, price):\n",
    "        self.title = title\n",
    "        self.author = author\n",
    "        self.num_of_pages = num_of_pages\n",
    "        self.price = price\n",
    "        self.current_page = 0\n",
    "        print(f\"Congrats on purchasing {self} for ${price:.2f}\")\n",
    "        \n",
    "    def __str__(self):\n",
    "        return f\"{self.title} by {self.author}\"\n",
    "        \n",
    "        \n",
    "b1 = Book('A Tale of Two Cities', 'Charles Dickens', 872, 29.99)\n",
    "b2 = Book('Moby Dick', 'Herman Melville', 492, 14.95)"
   ]
  },
  {
   "cell_type": "code",
   "execution_count": 51,
   "metadata": {},
   "outputs": [
    {
     "name": "stdout",
     "output_type": "stream",
     "text": [
      "A Tale of Two Cities by Charles Dickens\n"
     ]
    }
   ],
   "source": [
    "print(b1)"
   ]
  },
  {
   "cell_type": "code",
   "execution_count": 52,
   "metadata": {},
   "outputs": [
    {
     "name": "stdout",
     "output_type": "stream",
     "text": [
      "Moby Dick by Herman Melville\n"
     ]
    }
   ],
   "source": [
    "print(b2)"
   ]
  },
  {
   "cell_type": "code",
   "execution_count": 53,
   "metadata": {},
   "outputs": [
    {
     "name": "stdout",
     "output_type": "stream",
     "text": [
      "I am currently reading A Tale of Two Cities by Charles Dickens\n"
     ]
    }
   ],
   "source": [
    "print(f'I am currently reading {b1}')"
   ]
  },
  {
   "cell_type": "code",
   "execution_count": 54,
   "metadata": {},
   "outputs": [
    {
     "name": "stdout",
     "output_type": "stream",
     "text": [
      "A Tale of Two Cities by Charles Dickens\n"
     ]
    }
   ],
   "source": [
    "print(b1)"
   ]
  },
  {
   "cell_type": "code",
   "execution_count": 55,
   "metadata": {},
   "outputs": [
    {
     "data": {
      "text/plain": [
       "<__main__.Book at 0x267a57d1810>"
      ]
     },
     "execution_count": 55,
     "metadata": {},
     "output_type": "execute_result"
    }
   ],
   "source": [
    "b1"
   ]
  },
  {
   "cell_type": "code",
   "execution_count": 56,
   "metadata": {},
   "outputs": [
    {
     "name": "stdout",
     "output_type": "stream",
     "text": [
      "Blue Honda Accord drove 55 miles\n",
      "Blue Honda Accord\n"
     ]
    }
   ],
   "source": [
    "class Car:\n",
    "    def __init__(self, color, make, model):\n",
    "        self.color = color\n",
    "        self.make = make\n",
    "        self.model = model\n",
    "        \n",
    "    def __str__(self):\n",
    "        return f\"{self.color} {self.make} {self.model}\".title()\n",
    "        \n",
    "    def drive(self, num_miles):\n",
    "        print(f\"{self} drove {num_miles} miles\")\n",
    "        \n",
    "        \n",
    "        \n",
    "c1 = Car('blue', 'Honda', 'Accord')\n",
    "c1.drive(55)\n",
    "print(c1)"
   ]
  },
  {
   "cell_type": "code",
   "execution_count": 58,
   "metadata": {},
   "outputs": [
    {
     "name": "stdout",
     "output_type": "stream",
     "text": [
      "[<__main__.Book object at 0x00000267A57D1810>, <__main__.Book object at 0x00000267A57D0730>]\n",
      "A Tale of Two Cities by Charles Dickens\n",
      "Moby Dick by Herman Melville\n"
     ]
    }
   ],
   "source": [
    "library = [b1, b2]\n",
    "\n",
    "print(library)\n",
    "\n",
    "for book in library:\n",
    "    print(book)"
   ]
  },
  {
   "cell_type": "markdown",
   "metadata": {},
   "source": [
    "#### \\__repr\\__()"
   ]
  },
  {
   "cell_type": "code",
   "execution_count": 74,
   "metadata": {
    "scrolled": true
   },
   "outputs": [],
   "source": [
    "class Car:\n",
    "    def __init__(self, color, make, model):\n",
    "        self.color = color\n",
    "        self.make = make\n",
    "        self.model = model\n",
    "        \n",
    "    # Method that will return end-user friendly readable info\n",
    "    def __str__(self):\n",
    "        return f\"{self.color} {self.make} {self.model}\".title()\n",
    "    \n",
    "    # Method that will return the machine readable (developer friendly) info\n",
    "    def __repr__(self):\n",
    "        return f\"<Car|{self.make} {self.model}>\"\n",
    "        \n",
    "    def drive(self, num_miles):\n",
    "        print(f\"{self} drove {num_miles} miles\")\n",
    "        \n",
    "        \n",
    "        \n",
    "c1 = Car('blue', 'Honda', 'Accord')\n",
    "c2 = Car('red', 'Toyota', 'Camry')"
   ]
  },
  {
   "cell_type": "code",
   "execution_count": 75,
   "metadata": {},
   "outputs": [
    {
     "name": "stdout",
     "output_type": "stream",
     "text": [
      "Blue Honda Accord\n",
      "Red Toyota Camry\n"
     ]
    }
   ],
   "source": [
    "print(c1)\n",
    "print(c2)"
   ]
  },
  {
   "cell_type": "code",
   "execution_count": 76,
   "metadata": {},
   "outputs": [
    {
     "data": {
      "text/plain": [
       "<Car|Honda Accord>"
      ]
     },
     "execution_count": 76,
     "metadata": {},
     "output_type": "execute_result"
    }
   ],
   "source": [
    "c1"
   ]
  },
  {
   "cell_type": "code",
   "execution_count": 77,
   "metadata": {},
   "outputs": [
    {
     "data": {
      "text/plain": [
       "<Car|Toyota Camry>"
      ]
     },
     "execution_count": 77,
     "metadata": {},
     "output_type": "execute_result"
    }
   ],
   "source": [
    "c2"
   ]
  },
  {
   "cell_type": "code",
   "execution_count": 78,
   "metadata": {},
   "outputs": [
    {
     "name": "stdout",
     "output_type": "stream",
     "text": [
      "[<Car|Honda Accord>, <Car|Toyota Camry>]\n",
      "Blue Honda Accord\n",
      "Red Toyota Camry\n"
     ]
    }
   ],
   "source": [
    "garage = [c1, c2]\n",
    "\n",
    "print(garage)\n",
    "\n",
    "for car in garage:\n",
    "    print(car)"
   ]
  },
  {
   "cell_type": "code",
   "execution_count": 79,
   "metadata": {},
   "outputs": [],
   "source": [
    "class BlogPost:\n",
    "    id_counter = 1\n",
    "    \n",
    "    def __init__(self, title, body, author):\n",
    "        self.title = title.title()\n",
    "        self.body = body\n",
    "        self.author = author.title()\n",
    "        self.id = BlogPost.id_counter\n",
    "        BlogPost.id_counter += 1\n",
    "        \n",
    "    def __str__(self):\n",
    "        return f\"\"\"\n",
    "        {self.title}\n",
    "        By: {self.author}\n",
    "        {self.body}\n",
    "        \"\"\"\n",
    "    \n",
    "    def __repr__(self):\n",
    "        return f\"<BlogPost {self.id}|{self.title}>\""
   ]
  },
  {
   "cell_type": "code",
   "execution_count": 80,
   "metadata": {},
   "outputs": [],
   "source": [
    "post1 = BlogPost('First', 'This is the first post.', 'Brian')\n",
    "post2 = BlogPost('Tuesday', 'Today is the second day of the week', 'Sarah')\n",
    "post3 = BlogPost('OOP', 'This is an example of the __str__ vs __repr__ methods', 'Kevin')"
   ]
  },
  {
   "cell_type": "code",
   "execution_count": 69,
   "metadata": {},
   "outputs": [
    {
     "name": "stdout",
     "output_type": "stream",
     "text": [
      "[<BlogPost 1|First>, <BlogPost 2|Tuesday>, <BlogPost 3|Oop>]\n"
     ]
    }
   ],
   "source": [
    "posts = [post1, post2, post3]\n",
    "print(posts)"
   ]
  },
  {
   "cell_type": "code",
   "execution_count": 70,
   "metadata": {},
   "outputs": [
    {
     "name": "stdout",
     "output_type": "stream",
     "text": [
      "\n",
      "        First\n",
      "        By: Brian\n",
      "        This is the first post.\n",
      "        \n",
      "\n",
      "        Tuesday\n",
      "        By: Sarah\n",
      "        Today is the second day of the week\n",
      "        \n",
      "\n",
      "        Oop\n",
      "        By: Kevin\n",
      "        This is an example of the __str__ vs __repr__ methods\n",
      "        \n"
     ]
    }
   ],
   "source": [
    "for post in posts:\n",
    "    print(post)"
   ]
  },
  {
   "cell_type": "code",
   "execution_count": 81,
   "metadata": {
    "scrolled": true
   },
   "outputs": [
    {
     "name": "stdout",
     "output_type": "stream",
     "text": [
      "Help on class object in module builtins:\n",
      "\n",
      "class object\n",
      " |  The base class of the class hierarchy.\n",
      " |  \n",
      " |  When called, it accepts no arguments and returns a new featureless\n",
      " |  instance that has no instance attributes and cannot be given any.\n",
      " |  \n",
      " |  Built-in subclasses:\n",
      " |      anext_awaitable\n",
      " |      ArgNotFound\n",
      " |      async_generator\n",
      " |      async_generator_asend\n",
      " |      ... and 113 other subclasses\n",
      " |  \n",
      " |  Methods defined here:\n",
      " |  \n",
      " |  __delattr__(self, name, /)\n",
      " |      Implement delattr(self, name).\n",
      " |  \n",
      " |  __dir__(self, /)\n",
      " |      Default dir() implementation.\n",
      " |  \n",
      " |  __eq__(self, value, /)\n",
      " |      Return self==value.\n",
      " |  \n",
      " |  __format__(self, format_spec, /)\n",
      " |      Default object formatter.\n",
      " |  \n",
      " |  __ge__(self, value, /)\n",
      " |      Return self>=value.\n",
      " |  \n",
      " |  __getattribute__(self, name, /)\n",
      " |      Return getattr(self, name).\n",
      " |  \n",
      " |  __gt__(self, value, /)\n",
      " |      Return self>value.\n",
      " |  \n",
      " |  __hash__(self, /)\n",
      " |      Return hash(self).\n",
      " |  \n",
      " |  __init__(self, /, *args, **kwargs)\n",
      " |      Initialize self.  See help(type(self)) for accurate signature.\n",
      " |  \n",
      " |  __le__(self, value, /)\n",
      " |      Return self<=value.\n",
      " |  \n",
      " |  __lt__(self, value, /)\n",
      " |      Return self<value.\n",
      " |  \n",
      " |  __ne__(self, value, /)\n",
      " |      Return self!=value.\n",
      " |  \n",
      " |  __reduce__(self, /)\n",
      " |      Helper for pickle.\n",
      " |  \n",
      " |  __reduce_ex__(self, protocol, /)\n",
      " |      Helper for pickle.\n",
      " |  \n",
      " |  __repr__(self, /)\n",
      " |      Return repr(self).\n",
      " |  \n",
      " |  __setattr__(self, name, value, /)\n",
      " |      Implement setattr(self, name, value).\n",
      " |  \n",
      " |  __sizeof__(self, /)\n",
      " |      Size of object in memory, in bytes.\n",
      " |  \n",
      " |  __str__(self, /)\n",
      " |      Return str(self).\n",
      " |  \n",
      " |  ----------------------------------------------------------------------\n",
      " |  Class methods defined here:\n",
      " |  \n",
      " |  __init_subclass__(...) from builtins.type\n",
      " |      This method is called when a class is subclassed.\n",
      " |      \n",
      " |      The default implementation does nothing. It may be\n",
      " |      overridden to extend subclasses.\n",
      " |  \n",
      " |  __subclasshook__(...) from builtins.type\n",
      " |      Abstract classes can override this to customize issubclass().\n",
      " |      \n",
      " |      This is invoked early on by abc.ABCMeta.__subclasscheck__().\n",
      " |      It should return True, False or NotImplemented.  If it returns\n",
      " |      NotImplemented, the normal algorithm is used.  Otherwise, it\n",
      " |      overrides the normal algorithm (and the outcome is cached).\n",
      " |  \n",
      " |  ----------------------------------------------------------------------\n",
      " |  Static methods defined here:\n",
      " |  \n",
      " |  __new__(*args, **kwargs) from builtins.type\n",
      " |      Create and return a new object.  See help(type) for accurate signature.\n",
      " |  \n",
      " |  ----------------------------------------------------------------------\n",
      " |  Data and other attributes defined here:\n",
      " |  \n",
      " |  __class__ = <class 'type'>\n",
      " |      type(object) -> the object's type\n",
      " |      type(name, bases, dict, **kwds) -> a new type\n",
      "\n"
     ]
    }
   ],
   "source": [
    "help(object)"
   ]
  },
  {
   "cell_type": "code",
   "execution_count": 94,
   "metadata": {},
   "outputs": [
    {
     "name": "stdout",
     "output_type": "stream",
     "text": [
      "Brian Stanton\n"
     ]
    },
    {
     "data": {
      "text/plain": [
       "<Student |Brian Stanton>"
      ]
     },
     "execution_count": 94,
     "metadata": {},
     "output_type": "execute_result"
    }
   ],
   "source": [
    "class Student:\n",
    "    def __init__(self, first, last):\n",
    "        self.first = first.title()\n",
    "        self.last = last.title()\n",
    "        \n",
    "    def __str__(self):\n",
    "        return self.first + ' ' + self.last\n",
    "\n",
    "    def __repr__(self):\n",
    "        return f\"<Student |{self.first} {self.last}>\"\n",
    "\n",
    "s = Student('brian', 'stanton')\n",
    "\n",
    "print(s)\n",
    "s"
   ]
  },
  {
   "cell_type": "code",
   "execution_count": 95,
   "metadata": {},
   "outputs": [
    {
     "name": "stdout",
     "output_type": "stream",
     "text": [
      "[<HotelRoom | 100>, <HotelRoom | 101>, <HotelRoom | 102>, <HotelRoom | 103>, <HotelRoom | 104>, <HotelRoom | 105>, <HotelRoom | 106>, <HotelRoom | 107>, <HotelRoom | 108>, <HotelRoom | 109>, <HotelRoom | 110>, <HotelRoom | 111>, <HotelRoom | 112>, <HotelRoom | 113>, <HotelRoom | 114>, <HotelRoom | 115>, <HotelRoom | 116>, <HotelRoom | 117>, <HotelRoom | 118>, <HotelRoom | 119>]\n"
     ]
    }
   ],
   "source": [
    "# If the __repr__() is defined but the __str__() is not, then __repr__ is used for string conversion\n",
    "\n",
    "class HotelRoom:\n",
    "    def __init__(self, room_number):\n",
    "        self.room_number = room_number\n",
    "        self.occupied = False\n",
    "        \n",
    "    def __repr__(self):\n",
    "        return f\"<HotelRoom | {self.room_number}>\"\n",
    "    \n",
    "    \n",
    "hotel = [HotelRoom(x) for x in range(100, 120)]\n",
    "print(hotel)"
   ]
  },
  {
   "cell_type": "code",
   "execution_count": 96,
   "metadata": {},
   "outputs": [
    {
     "name": "stdout",
     "output_type": "stream",
     "text": [
      "<HotelRoom | 100>\n",
      "<HotelRoom | 101>\n",
      "<HotelRoom | 102>\n",
      "<HotelRoom | 103>\n",
      "<HotelRoom | 104>\n",
      "<HotelRoom | 105>\n",
      "<HotelRoom | 106>\n",
      "<HotelRoom | 107>\n",
      "<HotelRoom | 108>\n",
      "<HotelRoom | 109>\n",
      "<HotelRoom | 110>\n",
      "<HotelRoom | 111>\n",
      "<HotelRoom | 112>\n",
      "<HotelRoom | 113>\n",
      "<HotelRoom | 114>\n",
      "<HotelRoom | 115>\n",
      "<HotelRoom | 116>\n",
      "<HotelRoom | 117>\n",
      "<HotelRoom | 118>\n",
      "<HotelRoom | 119>\n"
     ]
    }
   ],
   "source": [
    "for room in hotel:\n",
    "    print(room)"
   ]
  },
  {
   "cell_type": "code",
   "execution_count": 97,
   "metadata": {},
   "outputs": [
    {
     "name": "stdout",
     "output_type": "stream",
     "text": [
      "[<__main__.HotelRoom object at 0x00000267A57D05E0>, <__main__.HotelRoom object at 0x00000267A57FA4A0>, <__main__.HotelRoom object at 0x00000267A5DA8A00>, <__main__.HotelRoom object at 0x00000267A5DA8AF0>, <__main__.HotelRoom object at 0x00000267A58C3280>, <__main__.HotelRoom object at 0x00000267A6F5D360>, <__main__.HotelRoom object at 0x00000267A57C0850>, <__main__.HotelRoom object at 0x00000267A5DAEC50>, <__main__.HotelRoom object at 0x00000267A5DADB70>, <__main__.HotelRoom object at 0x00000267A5DACA60>, <__main__.HotelRoom object at 0x00000267A5DAFBE0>, <__main__.HotelRoom object at 0x00000267A5DAEF20>, <__main__.HotelRoom object at 0x00000267A5DAF250>, <__main__.HotelRoom object at 0x00000267A5DAF010>, <__main__.HotelRoom object at 0x00000267A5DAEE90>, <__main__.HotelRoom object at 0x00000267A5DAECB0>, <__main__.HotelRoom object at 0x00000267A5DADFF0>, <__main__.HotelRoom object at 0x00000267A5DAE0E0>, <__main__.HotelRoom object at 0x00000267A5DAFB80>, <__main__.HotelRoom object at 0x00000267A5DAFB20>]\n"
     ]
    }
   ],
   "source": [
    "# The opposite is NOT true! if __str__ is there but no __repr__, __repr__ != __str__\n",
    "\n",
    "class HotelRoom:\n",
    "    def __init__(self, room_number):\n",
    "        self.room_number = room_number\n",
    "        self.occupied = False\n",
    "        \n",
    "    def __str__(self):\n",
    "        return f\"Room Number: {self.room_number}\\nOccupied: {self.occupied}\"\n",
    "    \n",
    "    \n",
    "hotel = [HotelRoom(x) for x in range(100, 120)]\n",
    "print(hotel)"
   ]
  },
  {
   "cell_type": "code",
   "execution_count": 98,
   "metadata": {},
   "outputs": [
    {
     "name": "stdout",
     "output_type": "stream",
     "text": [
      "Room Number: 100\n",
      "Occupied: False\n",
      "Room Number: 101\n",
      "Occupied: False\n",
      "Room Number: 102\n",
      "Occupied: False\n",
      "Room Number: 103\n",
      "Occupied: False\n",
      "Room Number: 104\n",
      "Occupied: False\n",
      "Room Number: 105\n",
      "Occupied: False\n",
      "Room Number: 106\n",
      "Occupied: False\n",
      "Room Number: 107\n",
      "Occupied: False\n",
      "Room Number: 108\n",
      "Occupied: False\n",
      "Room Number: 109\n",
      "Occupied: False\n",
      "Room Number: 110\n",
      "Occupied: False\n",
      "Room Number: 111\n",
      "Occupied: False\n",
      "Room Number: 112\n",
      "Occupied: False\n",
      "Room Number: 113\n",
      "Occupied: False\n",
      "Room Number: 114\n",
      "Occupied: False\n",
      "Room Number: 115\n",
      "Occupied: False\n",
      "Room Number: 116\n",
      "Occupied: False\n",
      "Room Number: 117\n",
      "Occupied: False\n",
      "Room Number: 118\n",
      "Occupied: False\n",
      "Room Number: 119\n",
      "Occupied: False\n"
     ]
    }
   ],
   "source": [
    "for room in hotel:\n",
    "    print(room)"
   ]
  },
  {
   "cell_type": "markdown",
   "metadata": {},
   "source": [
    "#### \\__lt\\__(), \\__lte\\__(), \\__eq\\__(), etc"
   ]
  },
  {
   "cell_type": "code",
   "execution_count": null,
   "metadata": {},
   "outputs": [],
   "source": []
  },
  {
   "cell_type": "code",
   "execution_count": null,
   "metadata": {},
   "outputs": [],
   "source": []
  },
  {
   "cell_type": "code",
   "execution_count": null,
   "metadata": {},
   "outputs": [],
   "source": []
  },
  {
   "cell_type": "markdown",
   "metadata": {},
   "source": [
    "##### \\_\\_add\\_\\_, \\_\\_contains\\_\\_"
   ]
  },
  {
   "cell_type": "code",
   "execution_count": null,
   "metadata": {},
   "outputs": [],
   "source": []
  },
  {
   "cell_type": "code",
   "execution_count": null,
   "metadata": {},
   "outputs": [],
   "source": []
  },
  {
   "cell_type": "code",
   "execution_count": null,
   "metadata": {},
   "outputs": [],
   "source": []
  },
  {
   "cell_type": "markdown",
   "metadata": {},
   "source": [
    "#### In-class Exercise 1"
   ]
  },
  {
   "cell_type": "code",
   "execution_count": null,
   "metadata": {},
   "outputs": [],
   "source": [
    "# Create a class Animal that displays the name and species when printed\n",
    "\n",
    "\n",
    "leo = Animal('Leo', 'lion')\n",
    "\n",
    "print(leo) # Leo the Lion\n",
    "\n",
    "\n",
    "buddy = Animal('Buddy', 'dog')\n",
    "print(buddy) # Buddy the Dog"
   ]
  },
  {
   "cell_type": "markdown",
   "metadata": {},
   "source": [
    "## Inheritance <br>\n",
    "<p>You can create a child-parent relationship between two classes by using inheritance. What this allows you to do is have overriding methods, but also inherit traits from the parent class. Think of it as an actual parent and child, the child will inherit the parent's genes, as will the classes in OOP</p>"
   ]
  },
  {
   "cell_type": "markdown",
   "metadata": {},
   "source": [
    "##### Syntax for Inheriting from a Parent Class"
   ]
  },
  {
   "cell_type": "code",
   "execution_count": null,
   "metadata": {},
   "outputs": [],
   "source": [
    "# Syntax: class Child(Parent):\n",
    "\n"
   ]
  },
  {
   "cell_type": "code",
   "execution_count": null,
   "metadata": {},
   "outputs": [],
   "source": []
  },
  {
   "cell_type": "markdown",
   "metadata": {},
   "source": [
    "##### The \\__init\\__() Method for a Child Class - super()"
   ]
  },
  {
   "cell_type": "code",
   "execution_count": null,
   "metadata": {
    "scrolled": true
   },
   "outputs": [],
   "source": []
  },
  {
   "cell_type": "code",
   "execution_count": null,
   "metadata": {},
   "outputs": [],
   "source": []
  },
  {
   "cell_type": "code",
   "execution_count": null,
   "metadata": {
    "scrolled": true
   },
   "outputs": [],
   "source": []
  },
  {
   "cell_type": "code",
   "execution_count": null,
   "metadata": {},
   "outputs": [],
   "source": []
  },
  {
   "cell_type": "code",
   "execution_count": null,
   "metadata": {},
   "outputs": [],
   "source": []
  },
  {
   "cell_type": "markdown",
   "metadata": {},
   "source": [
    "#### In-class Exercise 2"
   ]
  },
  {
   "cell_type": "markdown",
   "metadata": {},
   "source": [
    "Create a Car class that has a drive and fill up method, and then create a Ford class that inherits from the car class."
   ]
  },
  {
   "cell_type": "code",
   "execution_count": null,
   "metadata": {},
   "outputs": [],
   "source": [
    "\n",
    "\n",
    "\n",
    "\n",
    "my_car = Ford('blue', 'Focus')\n",
    "\n",
    "print(my_car.make) # 'Ford'\n",
    "\n",
    "my_car.drive() # 'blue Ford Focus is driving'\n",
    "\n",
    "my_car.fill_up() # 'Filling up blue Ford Focus'\n",
    "\n",
    "my_other_car = Toyota('red', 'Camry')\n",
    "\n",
    "my_other_car.drive()\n",
    "my_other_car.fill_up()\n"
   ]
  },
  {
   "cell_type": "markdown",
   "metadata": {},
   "source": [
    "## Modules"
   ]
  },
  {
   "cell_type": "markdown",
   "metadata": {},
   "source": [
    "##### Importing Entire Modules"
   ]
  },
  {
   "cell_type": "code",
   "execution_count": null,
   "metadata": {},
   "outputs": [],
   "source": [
    "# import name_of_module\n",
    "\n"
   ]
  },
  {
   "cell_type": "markdown",
   "metadata": {},
   "source": [
    "##### Importing Methods Only"
   ]
  },
  {
   "cell_type": "code",
   "execution_count": null,
   "metadata": {},
   "outputs": [],
   "source": [
    "# from module_name import class, function, constant, etc.\n",
    "\n"
   ]
  },
  {
   "cell_type": "markdown",
   "metadata": {},
   "source": [
    "##### Using the 'as' Keyword"
   ]
  },
  {
   "cell_type": "code",
   "execution_count": null,
   "metadata": {},
   "outputs": [],
   "source": [
    "# import module as new_name\n",
    "# from module import function as f\n",
    "\n"
   ]
  },
  {
   "cell_type": "code",
   "execution_count": null,
   "metadata": {},
   "outputs": [],
   "source": []
  },
  {
   "cell_type": "code",
   "execution_count": null,
   "metadata": {},
   "outputs": [],
   "source": [
    "# Using VS Code\n"
   ]
  },
  {
   "cell_type": "code",
   "execution_count": null,
   "metadata": {},
   "outputs": [],
   "source": []
  },
  {
   "cell_type": "code",
   "execution_count": null,
   "metadata": {},
   "outputs": [],
   "source": []
  },
  {
   "cell_type": "code",
   "execution_count": null,
   "metadata": {},
   "outputs": [],
   "source": []
  },
  {
   "cell_type": "code",
   "execution_count": null,
   "metadata": {},
   "outputs": [],
   "source": []
  }
 ],
 "metadata": {
  "kernelspec": {
   "display_name": "Python 3 (ipykernel)",
   "language": "python",
   "name": "python3"
  },
  "language_info": {
   "codemirror_mode": {
    "name": "ipython",
    "version": 3
   },
   "file_extension": ".py",
   "mimetype": "text/x-python",
   "name": "python",
   "nbconvert_exporter": "python",
   "pygments_lexer": "ipython3",
   "version": "3.10.9"
  }
 },
 "nbformat": 4,
 "nbformat_minor": 2
}

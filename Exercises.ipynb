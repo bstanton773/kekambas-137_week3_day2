{
 "cells": [
  {
   "cell_type": "markdown",
   "metadata": {},
   "source": [
    "#### Exercise 1 - Class Inheritance"
   ]
  },
  {
   "cell_type": "markdown",
   "metadata": {},
   "source": [
    "Create an Employee class that sets an employee's first name, last name, job title, salary, and email. The Employee class should have a class attribute for the raise amount set to 5% (1.05). Create a method that will apply the raise to an employee's salary."
   ]
  },
  {
   "cell_type": "code",
   "execution_count": 12,
   "metadata": {},
   "outputs": [],
   "source": [
    "from datetime import datetime"
   ]
  },
  {
   "cell_type": "code",
   "execution_count": 63,
   "metadata": {},
   "outputs": [],
   "source": [
    "# Write the Employee Parent Class Here\n",
    "\n",
    "class Employee:\n",
    "    raise_amount = 1.05\n",
    "    \n",
    "    def __init__(self, first, last, title, salary):\n",
    "        self.first_name = first.title()\n",
    "        self.last_name = last.title()\n",
    "        self.title = title\n",
    "        self.salary = salary\n",
    "        self.email = first[0].lower() + last.lower() + '@aweseomcorp.gov'\n",
    "        self.hired_date = datetime.utcnow()\n",
    "        self.hr_manager = 'Mr. Manager'\n",
    "        \n",
    "    def __str__(self):\n",
    "        return f\"{self.first_name} {self.last_name}, {self.title}\"\n",
    "        \n",
    "    def apply_raise(self):\n",
    "        self.salary = round(self.salary * Employee.raise_amount)\n",
    "        print(f\"Congratulations on the raise, {self}. Your new salary is ${self.salary}\")\n",
    "        "
   ]
  },
  {
   "cell_type": "markdown",
   "metadata": {},
   "source": [
    "Create two more classes that inherit from the Employee class. One for Sales and one for Development. Both of these classes will have the same attributes as the Employee.<br>\n",
    "- For the Sales employees, add a phone number attribute on instantiation using the super method. \n",
    "- Create a method on the Sales class that will \"Send a Follow Up Email\". It should take in a customer name and \"send\" aka print a formatted email \"Dear *customer*, Thank you for your interest in our product. Please let me know if you have any questions. My email is *email* or my phone number is *phone number*. Thanks, *full name*\"\n",
    "- Create a method on the Development class called code that will print out \"*full name* is writing code\"."
   ]
  },
  {
   "cell_type": "code",
   "execution_count": 64,
   "metadata": {},
   "outputs": [],
   "source": [
    "from random import randint"
   ]
  },
  {
   "cell_type": "code",
   "execution_count": 65,
   "metadata": {},
   "outputs": [],
   "source": [
    "# Write the Sales child Class Here\n",
    "\n",
    "\n",
    "class Sales(Employee):\n",
    "    \n",
    "    def __init__(self, first, last, title, salary):\n",
    "        super().__init__(first, last, title, salary)\n",
    "        self.phone_number = '(555) 555-' + str(randint(1000, 9999))\n",
    "        \n",
    "    def send_follow_up(self, customer_name):\n",
    "        print(f\"\"\"\n",
    "        Dear {customer_name},\n",
    "        \n",
    "            Thank you for your interest in our product. Please let me know if you have any questions. My email\n",
    "            is {self.email} or my phone number is {self.phone_number}.\n",
    "            \n",
    "            Thanks,\n",
    "            {self}\n",
    "        \"\"\")\n",
    "\n",
    "\n",
    "\n",
    "# Write the Development child Class Here\n",
    "class Development(Employee):\n",
    "    \n",
    "    def write_code(self):\n",
    "        print(f\"{self} is writing code...\")\n"
   ]
  },
  {
   "cell_type": "markdown",
   "metadata": {},
   "source": [
    "- Create an instance of a Sales Employee with a salary of $50,000.\n",
    "- Send follow up emails to \"Mike O'Neil\" and \"Hannah Stern\"\n",
    "- Give the employee a raise and print the salary"
   ]
  },
  {
   "cell_type": "code",
   "execution_count": 66,
   "metadata": {},
   "outputs": [
    {
     "name": "stdout",
     "output_type": "stream",
     "text": [
      "Michael Scott, Regional Manager\n",
      "{'first_name': 'Michael', 'last_name': 'Scott', 'title': 'Regional Manager', 'salary': 50000, 'email': 'mscott@aweseomcorp.gov', 'hired_date': datetime.datetime(2023, 12, 13, 17, 48, 57, 871145), 'hr_manager': 'Mr. Manager', 'phone_number': '(555) 555-2217'}\n"
     ]
    }
   ],
   "source": [
    "# Create the instance\n",
    "michael = Sales('michael', 'scott', 'Regional Manager', 50000)\n",
    "print(michael)\n",
    "print(michael.__dict__)"
   ]
  },
  {
   "cell_type": "code",
   "execution_count": 67,
   "metadata": {},
   "outputs": [
    {
     "name": "stdout",
     "output_type": "stream",
     "text": [
      "\n",
      "        Dear Mike O'Neil,\n",
      "        \n",
      "            Thank you for your interest in our product. Please let me know if you have any questions. My email\n",
      "            is mscott@aweseomcorp.gov or my phone number is (555) 555-2217.\n",
      "            \n",
      "            Thanks,\n",
      "            Michael Scott, Regional Manager\n",
      "        \n"
     ]
    }
   ],
   "source": [
    "# Send follow up to Mike\n",
    "michael.send_follow_up(\"Mike O'Neil\")"
   ]
  },
  {
   "cell_type": "code",
   "execution_count": 68,
   "metadata": {},
   "outputs": [
    {
     "name": "stdout",
     "output_type": "stream",
     "text": [
      "\n",
      "        Dear Hannah Stern,\n",
      "        \n",
      "            Thank you for your interest in our product. Please let me know if you have any questions. My email\n",
      "            is mscott@aweseomcorp.gov or my phone number is (555) 555-2217.\n",
      "            \n",
      "            Thanks,\n",
      "            Michael Scott, Regional Manager\n",
      "        \n"
     ]
    }
   ],
   "source": [
    "# Send follow up to Hannah\n",
    "michael.send_follow_up('Hannah Stern')"
   ]
  },
  {
   "cell_type": "code",
   "execution_count": 69,
   "metadata": {},
   "outputs": [
    {
     "name": "stdout",
     "output_type": "stream",
     "text": [
      "Congratulations on the raise, Michael Scott, Regional Manager. Your new salary is $52500\n"
     ]
    }
   ],
   "source": [
    "# Give the sales employee a raise\n",
    "michael.apply_raise()"
   ]
  },
  {
   "cell_type": "code",
   "execution_count": 70,
   "metadata": {},
   "outputs": [
    {
     "name": "stdout",
     "output_type": "stream",
     "text": [
      "1.05\n"
     ]
    }
   ],
   "source": [
    "print(michael.raise_amount)"
   ]
  },
  {
   "cell_type": "code",
   "execution_count": 71,
   "metadata": {},
   "outputs": [
    {
     "name": "stdout",
     "output_type": "stream",
     "text": [
      "{'first_name': 'Michael', 'last_name': 'Scott', 'title': 'Regional Manager', 'salary': 52500, 'email': 'mscott@aweseomcorp.gov', 'hired_date': datetime.datetime(2023, 12, 13, 17, 48, 57, 871145), 'hr_manager': 'Mr. Manager', 'phone_number': '(555) 555-2217'}\n"
     ]
    }
   ],
   "source": [
    "print(michael.__dict__)"
   ]
  },
  {
   "cell_type": "markdown",
   "metadata": {},
   "source": [
    "- Create an instance of a Development Employee with a salary of $100,000\n",
    "- Write some code with this employee\n",
    "- Give the employee a raise and print the salary"
   ]
  },
  {
   "cell_type": "code",
   "execution_count": 72,
   "metadata": {},
   "outputs": [
    {
     "name": "stdout",
     "output_type": "stream",
     "text": [
      "Ryan Howard, CTO\n"
     ]
    }
   ],
   "source": [
    "# Create the instance\n",
    "ryan = Development('ryan', 'howard', 'CTO', 100000)\n",
    "print(ryan)"
   ]
  },
  {
   "cell_type": "code",
   "execution_count": 73,
   "metadata": {},
   "outputs": [
    {
     "name": "stdout",
     "output_type": "stream",
     "text": [
      "Ryan Howard, CTO is writing code...\n"
     ]
    }
   ],
   "source": [
    "# Write some code (call code method)\n",
    "ryan.write_code()"
   ]
  },
  {
   "cell_type": "code",
   "execution_count": 74,
   "metadata": {},
   "outputs": [],
   "source": [
    "ryan.raise_amount = 1.20"
   ]
  },
  {
   "cell_type": "code",
   "execution_count": 75,
   "metadata": {},
   "outputs": [
    {
     "name": "stdout",
     "output_type": "stream",
     "text": [
      "Congratulations on the raise, Ryan Howard, CTO. Your new salary is $105000\n"
     ]
    }
   ],
   "source": [
    "# Give the dev employee a raise\n",
    "ryan.apply_raise()"
   ]
  },
  {
   "cell_type": "code",
   "execution_count": 76,
   "metadata": {},
   "outputs": [
    {
     "name": "stdout",
     "output_type": "stream",
     "text": [
      "{'first_name': 'Ryan', 'last_name': 'Howard', 'title': 'CTO', 'salary': 105000, 'email': 'rhoward@aweseomcorp.gov', 'hired_date': datetime.datetime(2023, 12, 13, 17, 48, 59, 574599), 'hr_manager': 'Mr. Manager', 'raise_amount': 1.2}\n"
     ]
    }
   ],
   "source": [
    "print(ryan.__dict__)"
   ]
  },
  {
   "cell_type": "code",
   "execution_count": 60,
   "metadata": {},
   "outputs": [
    {
     "name": "stdout",
     "output_type": "stream",
     "text": [
      "{'__module__': '__main__', 'raise_amount': 1.05, '__init__': <function Employee.__init__ at 0x00000252CBC81900>, '__str__': <function Employee.__str__ at 0x00000252D1F11D80>, 'apply_raise': <function Employee.apply_raise at 0x00000252D1F12050>, '__dict__': <attribute '__dict__' of 'Employee' objects>, '__weakref__': <attribute '__weakref__' of 'Employee' objects>, '__doc__': None}\n"
     ]
    }
   ],
   "source": [
    "print(Employee.__dict__)"
   ]
  },
  {
   "cell_type": "markdown",
   "metadata": {},
   "source": [
    "#### Exercise 2 - Importing Modules"
   ]
  },
  {
   "cell_type": "markdown",
   "metadata": {},
   "source": [
    "In VS Code, create a module titled `geometry` and add two functions in there. One that will calculate the area of a circle given a radius. The second will find the hypotenuse of a right angle given the two sides. Import the module or the functions from the module and use it to find the answers to the below questions"
   ]
  },
  {
   "cell_type": "markdown",
   "metadata": {},
   "source": [
    "What is the area of a circle with a radius of 7cm?"
   ]
  },
  {
   "cell_type": "code",
   "execution_count": null,
   "metadata": {},
   "outputs": [],
   "source": []
  },
  {
   "cell_type": "markdown",
   "metadata": {},
   "source": [
    "What is the hypotenuse of a right angle with sides of 3in and 4in?"
   ]
  },
  {
   "cell_type": "code",
   "execution_count": null,
   "metadata": {},
   "outputs": [],
   "source": []
  }
 ],
 "metadata": {
  "kernelspec": {
   "display_name": "Python 3 (ipykernel)",
   "language": "python",
   "name": "python3"
  },
  "language_info": {
   "codemirror_mode": {
    "name": "ipython",
    "version": 3
   },
   "file_extension": ".py",
   "mimetype": "text/x-python",
   "name": "python",
   "nbconvert_exporter": "python",
   "pygments_lexer": "ipython3",
   "version": "3.10.9"
  }
 },
 "nbformat": 4,
 "nbformat_minor": 4
}
